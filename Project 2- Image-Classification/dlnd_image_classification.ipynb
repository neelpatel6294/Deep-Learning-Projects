{
 "cells": [
  {
   "cell_type": "markdown",
   "metadata": {
    "collapsed": true,
    "deletable": true,
    "editable": true
   },
   "source": [
    "# Image Classification\n",
    "In this project, you'll classify images from the [CIFAR-10 dataset](https://www.cs.toronto.edu/~kriz/cifar.html).  The dataset consists of airplanes, dogs, cats, and other objects. You'll preprocess the images, then train a convolutional neural network on all the samples. The images need to be normalized and the labels need to be one-hot encoded.  You'll get to apply what you learned and build a convolutional, max pooling, dropout, and fully connected layers.  At the end, you'll get to see your neural network's predictions on the sample images.\n",
    "## Get the Data\n",
    "Run the following cell to download the [CIFAR-10 dataset for python](https://www.cs.toronto.edu/~kriz/cifar-10-python.tar.gz)."
   ]
  },
  {
   "cell_type": "code",
   "execution_count": 1,
   "metadata": {
    "collapsed": false,
    "deletable": true,
    "editable": true
   },
   "outputs": [
    {
     "name": "stdout",
     "output_type": "stream",
     "text": [
      "All files found!\n"
     ]
    }
   ],
   "source": [
    "\"\"\"\n",
    "DON'T MODIFY ANYTHING IN THIS CELL THAT IS BELOW THIS LINE\n",
    "\"\"\"\n",
    "from urllib.request import urlretrieve\n",
    "from os.path import isfile, isdir\n",
    "from tqdm import tqdm\n",
    "import problem_unittests as tests\n",
    "import tarfile\n",
    "\n",
    "cifar10_dataset_folder_path = 'cifar-10-batches-py'\n",
    "\n",
    "class DLProgress(tqdm):\n",
    "    last_block = 0\n",
    "\n",
    "    def hook(self, block_num=1, block_size=1, total_size=None):\n",
    "        self.total = total_size\n",
    "        self.update((block_num - self.last_block) * block_size)\n",
    "        self.last_block = block_num\n",
    "\n",
    "if not isfile('cifar-10-python.tar.gz'):\n",
    "    with DLProgress(unit='B', unit_scale=True, miniters=1, desc='CIFAR-10 Dataset') as pbar:\n",
    "        urlretrieve(\n",
    "            'https://www.cs.toronto.edu/~kriz/cifar-10-python.tar.gz',\n",
    "            'cifar-10-python.tar.gz',\n",
    "            pbar.hook)\n",
    "\n",
    "if not isdir(cifar10_dataset_folder_path):\n",
    "    with tarfile.open('cifar-10-python.tar.gz') as tar:\n",
    "        tar.extractall()\n",
    "        tar.close()\n",
    "\n",
    "\n",
    "tests.test_folder_path(cifar10_dataset_folder_path)"
   ]
  },
  {
   "cell_type": "markdown",
   "metadata": {
    "deletable": true,
    "editable": true
   },
   "source": [
    "## Explore the Data\n",
    "The dataset is broken into batches to prevent your machine from running out of memory.  The CIFAR-10 dataset consists of 5 batches, named `data_batch_1`, `data_batch_2`, etc.. Each batch contains the labels and images that are one of the following:\n",
    "* airplane\n",
    "* automobile\n",
    "* bird\n",
    "* cat\n",
    "* deer\n",
    "* dog\n",
    "* frog\n",
    "* horse\n",
    "* ship\n",
    "* truck\n",
    "\n",
    "Understanding a dataset is part of making predictions on the data.  Play around with the code cell below by changing the `batch_id` and `sample_id`. The `batch_id` is the id for a batch (1-5). The `sample_id` is the id for a image and label pair in the batch.\n",
    "\n",
    "Ask yourself \"What are all possible labels?\", \"What is the range of values for the image data?\", \"Are the labels in order or random?\".  Answers to questions like these will help you preprocess the data and end up with better predictions."
   ]
  },
  {
   "cell_type": "code",
   "execution_count": 2,
   "metadata": {
    "collapsed": false,
    "deletable": true,
    "editable": true
   },
   "outputs": [
    {
     "name": "stdout",
     "output_type": "stream",
     "text": [
      "\n",
      "Stats of batch 1:\n",
      "Samples: 10000\n",
      "Label Counts: {0: 1005, 1: 974, 2: 1032, 3: 1016, 4: 999, 5: 937, 6: 1030, 7: 1001, 8: 1025, 9: 981}\n",
      "First 20 Labels: [6, 9, 9, 4, 1, 1, 2, 7, 8, 3, 4, 7, 7, 2, 9, 9, 9, 3, 2, 6]\n",
      "\n",
      "Example of Image 5:\n",
      "Image - Min Value: 0 Max Value: 252\n",
      "Image - Shape: (32, 32, 3)\n",
      "Label - Label Id: 1 Name: automobile\n"
     ]
    },
    {
     "data": {
      "image/png": "[encoded data removed]",
      "text/plain": [
       "<matplotlib.figure.Figure at 0x7f7212f4cc50>"
      ]
     },
     "metadata": {
      "image/png": {
       "height": 250,
       "width": 253
      }
     },
     "output_type": "display_data"
    }
   ],
   "source": [
    "%matplotlib inline\n",
    "%config InlineBackend.figure_format = 'retina'\n",
    "\n",
    "import helper\n",
    "import numpy as np\n",
    "\n",
    "# Explore the dataset\n",
    "batch_id = 1\n",
    "sample_id = 5\n",
    "helper.display_stats(cifar10_dataset_folder_path, batch_id, sample_id)"
   ]
  },
  {
   "cell_type": "markdown",
   "metadata": {
    "deletable": true,
    "editable": true
   },
   "source": [
    "## Implement Preprocess Functions\n",
    "### Normalize\n",
    "In the cell below, implement the `normalize` function to take in image data, `x`, and return it as a normalized Numpy array. The values should be in the range of 0 to 1, inclusive.  The return object should be the same shape as `x`."
   ]
  },
  {
   "cell_type": "code",
   "execution_count": 3,
   "metadata": {
    "collapsed": false,
    "deletable": true,
    "editable": true
   },
   "outputs": [
    {
     "name": "stdout",
     "output_type": "stream",
     "text": [
      "Tests Passed\n"
     ]
    }
   ],
   "source": [
    "def normalize(x):\n",
    "    \"\"\"\n",
    "    Normalize a list of sample image data in the range of 0 to 1\n",
    "    : x: List of image data.  The image shape is (32, 32, 3)\n",
    "    : return: Numpy array of normalize data\n",
    "    \"\"\"\n",
    "    # TODO: Implement Function\n",
    "    return x/255\n",
    "\n",
    "\n",
    "\"\"\"\n",
    "DON'T MODIFY ANYTHING IN THIS CELL THAT IS BELOW THIS LINE\n",
    "\"\"\"\n",
    "tests.test_normalize(normalize)"
   ]
  },
  {
   "cell_type": "markdown",
   "metadata": {
    "deletable": true,
    "editable": true
   },
   "source": [
    "### One-hot encode\n",
    "Just like the previous code cell, you'll be implementing a function for preprocessing.  This time, you'll implement the `one_hot_encode` function. The input, `x`, are a list of labels.  Implement the function to return the list of labels as One-Hot encoded Numpy array.  The possible values for labels are 0 to 9. The one-hot encoding function should return the same encoding for each value between each call to `one_hot_encode`.  Make sure to save the map of encodings outside the function.\n",
    "\n",
    "Hint: Don't reinvent the wheel."
   ]
  },
  {
   "cell_type": "code",
   "execution_count": 4,
   "metadata": {
    "collapsed": false,
    "deletable": true,
    "editable": true
   },
   "outputs": [
    {
     "name": "stdout",
     "output_type": "stream",
     "text": [
      "Tests Passed\n"
     ]
    }
   ],
   "source": [
    "def one_hot_encode(x):\n",
    "    \"\"\"\n",
    "    One hot encode a list of sample labels. Return a one-hot encoded vector for each label.\n",
    "    : x: List of sample Labels\n",
    "    : return: Numpy array of one-hot encoded labels\n",
    "    \"\"\"\n",
    "    # TODO: Implement Function\n",
    "    a = np.zeros((len(x), 10))\n",
    "    # I then put a '1' in the vector array for each label using the label id\n",
    "    a[np.arange(len(x)), x] = 1\n",
    "    \n",
    "    return a\n",
    "\n",
    "\n",
    "\"\"\"\n",
    "DON'T MODIFY ANYTHING IN THIS CELL THAT IS BELOW THIS LINE\n",
    "\"\"\"\n",
    "tests.test_one_hot_encode(one_hot_encode)"
   ]
  },
  {
   "cell_type": "markdown",
   "metadata": {
    "deletable": true,
    "editable": true
   },
   "source": [
    "### Randomize Data\n",
    "As you saw from exploring the data above, the order of the samples are randomized.  It doesn't hurt to randomize it again, but you don't need to for this dataset."
   ]
  },
  {
   "cell_type": "markdown",
   "metadata": {
    "deletable": true,
    "editable": true
   },
   "source": [
    "## Preprocess all the data and save it\n",
    "Running the code cell below will preprocess all the CIFAR-10 data and save it to file. The code below also uses 10% of the training data for validation."
   ]
  },
  {
   "cell_type": "code",
   "execution_count": 5,
   "metadata": {
    "collapsed": false,
    "deletable": true,
    "editable": true
   },
   "outputs": [],
   "source": [
    "\"\"\"\n",
    "DON'T MODIFY ANYTHING IN THIS CELL\n",
    "\"\"\"\n",
    "# Preprocess Training, Validation, and Testing Data\n",
    "helper.preprocess_and_save_data(cifar10_dataset_folder_path, normalize, one_hot_encode)"
   ]
  },
  {
   "cell_type": "markdown",
   "metadata": {
    "deletable": true,
    "editable": true
   },
   "source": [
    "# Check Point\n",
    "This is your first checkpoint.  If you ever decide to come back to this notebook or have to restart the notebook, you can start from here.  The preprocessed data has been saved to disk."
   ]
  },
  {
   "cell_type": "code",
   "execution_count": 6,
   "metadata": {
    "collapsed": true,
    "deletable": true,
    "editable": true
   },
   "outputs": [],
   "source": [
    "\"\"\"\n",
    "DON'T MODIFY ANYTHING IN THIS CELL\n",
    "\"\"\"\n",
    "import pickle\n",
    "import problem_unittests as tests\n",
    "import helper\n",
    "\n",
    "# Load the Preprocessed Validation data\n",
    "valid_features, valid_labels = pickle.load(open('preprocess_validation.p', mode='rb'))"
   ]
  },
  {
   "cell_type": "markdown",
   "metadata": {
    "deletable": true,
    "editable": true
   },
   "source": [
    "## Build the network\n",
    "For the neural network, you'll build each layer into a function.  Most of the code you've seen has been outside of functions. To test your code more thoroughly, we require that you put each layer in a function.  This allows us to give you better feedback and test for simple mistakes using our unittests before you submit your project.\n",
    "\n",
    ">**Note:** If you're finding it hard to dedicate enough time for this course each week, we've provided a small shortcut to this part of the project. In the next couple of problems, you'll have the option to use classes from the [TensorFlow Layers](https://www.tensorflow.org/api_docs/python/tf/layers) or [TensorFlow Layers (contrib)](https://www.tensorflow.org/api_guides/python/contrib.layers) packages to build each layer, except the layers you build in the \"Convolutional and Max Pooling Layer\" section.  TF Layers is similar to Keras's and TFLearn's abstraction to layers, so it's easy to pickup.\n",
    "\n",
    ">However, if you would like to get the most out of this course, try to solve all the problems _without_ using anything from the TF Layers packages. You **can** still use classes from other packages that happen to have the same name as ones you find in TF Layers! For example, instead of using the TF Layers version of the `conv2d` class, [tf.layers.conv2d](https://www.tensorflow.org/api_docs/python/tf/layers/conv2d), you would want to use the TF Neural Network version of `conv2d`, [tf.nn.conv2d](https://www.tensorflow.org/api_docs/python/tf/nn/conv2d). \n",
    "\n",
    "Let's begin!\n",
    "\n",
    "### Input\n",
    "The neural network needs to read the image data, one-hot encoded labels, and dropout keep probability. Implement the following functions\n",
    "* Implement `neural_net_image_input`\n",
    " * Return a [TF Placeholder](https://www.tensorflow.org/api_docs/python/tf/placeholder)\n",
    " * Set the shape using `image_shape` with batch size set to `None`.\n",
    " * Name the TensorFlow placeholder \"x\" using the TensorFlow `name` parameter in the [TF Placeholder](https://www.tensorflow.org/api_docs/python/tf/placeholder).\n",
    "* Implement `neural_net_label_input`\n",
    " * Return a [TF Placeholder](https://www.tensorflow.org/api_docs/python/tf/placeholder)\n",
    " * Set the shape using `n_classes` with batch size set to `None`.\n",
    " * Name the TensorFlow placeholder \"y\" using the TensorFlow `name` parameter in the [TF Placeholder](https://www.tensorflow.org/api_docs/python/tf/placeholder).\n",
    "* Implement `neural_net_keep_prob_input`\n",
    " * Return a [TF Placeholder](https://www.tensorflow.org/api_docs/python/tf/placeholder) for dropout keep probability.\n",
    " * Name the TensorFlow placeholder \"keep_prob\" using the TensorFlow `name` parameter in the [TF Placeholder](https://www.tensorflow.org/api_docs/python/tf/placeholder).\n",
    "\n",
    "These names will be used at the end of the project to load your saved model.\n",
    "\n",
    "Note: `None` for shapes in TensorFlow allow for a dynamic size."
   ]
  },
  {
   "cell_type": "code",
   "execution_count": 7,
   "metadata": {
    "collapsed": false,
    "deletable": true,
    "editable": true
   },
   "outputs": [
    {
     "name": "stdout",
     "output_type": "stream",
     "text": [
      "Image Input Tests Passed.\n",
      "Label Input Tests Passed.\n",
      "Keep Prob Tests Passed.\n"
     ]
    }
   ],
   "source": [
    "import tensorflow as tf\n",
    "\n",
    "def neural_net_image_input(image_shape):\n",
    "    \"\"\"\n",
    "    Return a Tensor for a bach of image input\n",
    "    : image_shape: Shape of the images\n",
    "    : return: Tensor for image input.\n",
    "    \"\"\"\n",
    "    # TODO: Implement Function\n",
    "    return tf.placeholder(tf.float32, shape=[None, image_shape[0], image_shape[1], image_shape[2]], name='x')\n",
    "\n",
    "\n",
    "def neural_net_label_input(n_classes):\n",
    "    \"\"\"\n",
    "    Return a Tensor for a batch of label input\n",
    "    : n_classes: Number of classes\n",
    "    : return: Tensor for label input.\n",
    "    \"\"\"\n",
    "    # TODO: Implement Function\n",
    "    return tf.placeholder(tf.float32, shape=[None, n_classes], name='y')\n",
    "\n",
    "\n",
    "def neural_net_keep_prob_input():\n",
    "    \"\"\"\n",
    "    Return a Tensor for keep probability\n",
    "    : return: Tensor for keep probability.\n",
    "    \"\"\"\n",
    "    # TODO: Implement Function\n",
    "    return tf.placeholder(tf.float32, name='keep_prob')\n",
    "\n",
    "\n",
    "\"\"\"\n",
    "DON'T MODIFY ANYTHING IN THIS CELL THAT IS BELOW THIS LINE\n",
    "\"\"\"\n",
    "tf.reset_default_graph()\n",
    "tests.test_nn_image_inputs(neural_net_image_input)\n",
    "tests.test_nn_label_inputs(neural_net_label_input)\n",
    "tests.test_nn_keep_prob_inputs(neural_net_keep_prob_input)"
   ]
  },
  {
   "cell_type": "markdown",
   "metadata": {
    "deletable": true,
    "editable": true
   },
   "source": [
    "### Convolution and Max Pooling Layer\n",
    "Convolution layers have a lot of success with images. For this code cell, you should implement the function `conv2d_maxpool` to apply convolution then max pooling:\n",
    "* Create the weight and bias using `conv_ksize`, `conv_num_outputs` and the shape of `x_tensor`.\n",
    "* Apply a convolution to `x_tensor` using weight and `conv_strides`.\n",
    " * We recommend you use same padding, but you're welcome to use any padding.\n",
    "* Add bias\n",
    "* Add a nonlinear activation to the convolution.\n",
    "* Apply Max Pooling using `pool_ksize` and `pool_strides`.\n",
    " * We recommend you use same padding, but you're welcome to use any padding.\n",
    "\n",
    "**Note:** You **can't** use [TensorFlow Layers](https://www.tensorflow.org/api_docs/python/tf/layers) or [TensorFlow Layers (contrib)](https://www.tensorflow.org/api_guides/python/contrib.layers) for **this** layer, but you can still use TensorFlow's [Neural Network](https://www.tensorflow.org/api_docs/python/tf/nn) package. You may still use the shortcut option for all the **other** layers."
   ]
  },
  {
   "cell_type": "code",
   "execution_count": 8,
   "metadata": {
    "collapsed": false,
    "deletable": true,
    "editable": true
   },
   "outputs": [
    {
     "name": "stdout",
     "output_type": "stream",
     "text": [
      "Tests Passed\n"
     ]
    }
   ],
   "source": [
    "def conv2d_maxpool(x_tensor, conv_num_outputs, conv_ksize, conv_strides, pool_ksize, pool_strides):\n",
    "    \"\"\"\n",
    "    Apply convolution then max pooling to x_tensor\n",
    "    :param x_tensor: TensorFlow Tensor\n",
    "    :param conv_num_outputs: Number of outputs for the convolutional layer\n",
    "    :param conv_ksize: kernal size 2-D Tuple for the convolutional layer\n",
    "    :param conv_strides: Stride 2-D Tuple for convolution\n",
    "    :param pool_ksize: kernal size 2-D Tuple for pool\n",
    "    :param pool_strides: Stride 2-D Tuple for pool\n",
    "    : return: A tensor that represents convolution and max pooling of x_tensor\n",
    "    \"\"\"\n",
    "    # TODO: Implement Function\n",
    "    shape = x_tensor.get_shape().as_list()\n",
    "    \n",
    "    \n",
    "    weights = tf.Variable(tf.truncated_normal([conv_ksize[0], conv_ksize[1], shape[3], conv_num_outputs],stddev=0.05, mean=0)) # (height, width, input_depth, output_depth)\n",
    "    \n",
    "   \n",
    "    biases = tf.Variable(tf.zeros(conv_num_outputs))\n",
    "    \n",
    "    \n",
    "    conv_layer = tf.nn.conv2d(x_tensor, weights, [1, conv_strides[0], conv_strides[1], 1], padding='SAME')\n",
    "    conv_layer = tf.nn.bias_add(conv_layer, biases)\n",
    "    conv_layer = tf.nn.relu(conv_layer)\n",
    "    pool_max_layer = tf.nn.max_pool(conv_layer,[1, pool_ksize[0], pool_ksize[1], 1],[1, pool_strides[0], pool_strides[1], 1],padding='SAME')\n",
    "    \n",
    "    return pool_max_layer\n",
    "\n",
    "\n",
    "\"\"\"\n",
    "DON'T MODIFY ANYTHING IN THIS CELL THAT IS BELOW THIS LINE\n",
    "\"\"\"\n",
    "tests.test_con_pool(conv2d_maxpool)"
   ]
  },
  {
   "cell_type": "markdown",
   "metadata": {
    "deletable": true,
    "editable": true
   },
   "source": [
    "### Flatten Layer\n",
    "Implement the `flatten` function to change the dimension of `x_tensor` from a 4-D tensor to a 2-D tensor.  The output should be the shape (*Batch Size*, *Flattened Image Size*). Shortcut option: you can use classes from the [TensorFlow Layers](https://www.tensorflow.org/api_docs/python/tf/layers) or [TensorFlow Layers (contrib)](https://www.tensorflow.org/api_guides/python/contrib.layers) packages for this layer. For more of a challenge, only use other TensorFlow packages."
   ]
  },
  {
   "cell_type": "code",
   "execution_count": 9,
   "metadata": {
    "collapsed": false,
    "deletable": true,
    "editable": true
   },
   "outputs": [
    {
     "name": "stdout",
     "output_type": "stream",
     "text": [
      "Tests Passed\n"
     ]
    }
   ],
   "source": [
    "def flatten(x_tensor):\n",
    "    \"\"\"\n",
    "    Flatten x_tensor to (Batch Size, Flattened Image Size)\n",
    "    : x_tensor: A tensor of size (Batch Size, ...), where ... are the image dimensions.\n",
    "    : return: A tensor of size (Batch Size, Flattened Image Size).\n",
    "    \"\"\"\n",
    "    # TODO: Implement Function\n",
    "    shape = x_tensor.get_shape().as_list()\n",
    "    flattened_image_size = int(shape[1] * shape[2] * shape[3])\n",
    "\n",
    "    return tf.reshape(x_tensor, [-1, flattened_image_size])\n",
    "\n",
    "\"\"\"\n",
    "DON'T MODIFY ANYTHING IN THIS CELL THAT IS BELOW THIS LINE\n",
    "\"\"\"\n",
    "tests.test_flatten(flatten)"
   ]
  },
  {
   "cell_type": "markdown",
   "metadata": {
    "deletable": true,
    "editable": true
   },
   "source": [
    "### Fully-Connected Layer\n",
    "Implement the `fully_conn` function to apply a fully connected layer to `x_tensor` with the shape (*Batch Size*, *num_outputs*). Shortcut option: you can use classes from the [TensorFlow Layers](https://www.tensorflow.org/api_docs/python/tf/layers) or [TensorFlow Layers (contrib)](https://www.tensorflow.org/api_guides/python/contrib.layers) packages for this layer. For more of a challenge, only use other TensorFlow packages."
   ]
  },
  {
   "cell_type": "code",
   "execution_count": 10,
   "metadata": {
    "collapsed": false,
    "deletable": true,
    "editable": true
   },
   "outputs": [
    {
     "name": "stdout",
     "output_type": "stream",
     "text": [
      "Tests Passed\n"
     ]
    }
   ],
   "source": [
    "def fully_conn(x_tensor, num_outputs):\n",
    "    \"\"\"\n",
    "    Apply a fully connected layer to x_tensor using weight and bias\n",
    "    : x_tensor: A 2-D tensor where the first dimension is batch size.\n",
    "    : num_outputs: The number of output that the new tensor should be.\n",
    "    : return: A 2-D tensor where the second dimension is num_outputs.\n",
    "    \"\"\"\n",
    "    # TODO: Implement Function\n",
    "    shape = x_tensor.get_shape().as_list()\n",
    "    flattened_image_size = int(shape[1])\n",
    "    \n",
    "    fc = tf.add(\n",
    "        tf.matmul(x_tensor, tf.Variable(tf.random_normal([flattened_image_size, num_outputs]))), \n",
    "        tf.Variable(tf.random_normal([num_outputs])))\n",
    "    fc = tf.nn.relu(fc)\n",
    "    return fc\n",
    "\n",
    "\n",
    "\"\"\"\n",
    "DON'T MODIFY ANYTHING IN THIS CELL THAT IS BELOW THIS LINE\n",
    "\"\"\"\n",
    "tests.test_fully_conn(fully_conn)"
   ]
  },
  {
   "cell_type": "markdown",
   "metadata": {
    "deletable": true,
    "editable": true
   },
   "source": [
    "### Output Layer\n",
    "Implement the `output` function to apply a fully connected layer to `x_tensor` with the shape (*Batch Size*, *num_outputs*). Shortcut option: you can use classes from the [TensorFlow Layers](https://www.tensorflow.org/api_docs/python/tf/layers) or [TensorFlow Layers (contrib)](https://www.tensorflow.org/api_guides/python/contrib.layers) packages for this layer. For more of a challenge, only use other TensorFlow packages.\n",
    "\n",
    "**Note:** Activation, softmax, or cross entropy should **not** be applied to this."
   ]
  },
  {
   "cell_type": "code",
   "execution_count": 11,
   "metadata": {
    "collapsed": false,
    "deletable": true,
    "editable": true
   },
   "outputs": [
    {
     "name": "stdout",
     "output_type": "stream",
     "text": [
      "Tests Passed\n"
     ]
    }
   ],
   "source": [
    "def output(x_tensor, num_outputs):\n",
    "    \"\"\"\n",
    "    Apply a output layer to x_tensor using weight and bias\n",
    "    : x_tensor: A 2-D tensor where the first dimension is batch size.\n",
    "    : num_outputs: The number of output that the new tensor should be.\n",
    "    : return: A 2-D tensor where the second dimension is num_outputs.\n",
    "    \"\"\"\n",
    "    # TODO: Implement Function\n",
    "    shape = x_tensor.get_shape().as_list()\n",
    "    \n",
    "    flattened_image_size = int(shape[1])\n",
    "    out = tf.add(tf.matmul(x_tensor, tf.Variable(tf.truncated_normal([flattened_image_size, num_outputs],stddev=0.05, mean=0))), tf.Variable(tf.zeros([num_outputs])))\n",
    "    return out\n",
    "\n",
    "\n",
    "\"\"\"\n",
    "DON'T MODIFY ANYTHING IN THIS CELL THAT IS BELOW THIS LINE\n",
    "\"\"\"\n",
    "tests.test_output(output)"
   ]
  },
  {
   "cell_type": "markdown",
   "metadata": {
    "deletable": true,
    "editable": true
   },
   "source": [
    "### Create Convolutional Model\n",
    "Implement the function `conv_net` to create a convolutional neural network model. The function takes in a batch of images, `x`, and outputs logits.  Use the layers you created above to create this model:\n",
    "\n",
    "* Apply 1, 2, or 3 Convolution and Max Pool layers\n",
    "* Apply a Flatten Layer\n",
    "* Apply 1, 2, or 3 Fully Connected Layers\n",
    "* Apply an Output Layer\n",
    "* Return the output\n",
    "* Apply [TensorFlow's Dropout](https://www.tensorflow.org/api_docs/python/tf/nn/dropout) to one or more layers in the model using `keep_prob`. "
   ]
  },
  {
   "cell_type": "code",
   "execution_count": 12,
   "metadata": {
    "collapsed": false,
    "deletable": true,
    "editable": true
   },
   "outputs": [
    {
     "name": "stdout",
     "output_type": "stream",
     "text": [
      "Neural Network Built!\n"
     ]
    }
   ],
   "source": [
    "def conv_net(x, keep_prob):\n",
    "    \"\"\"\n",
    "    Create a convolutional neural network model\n",
    "    : x: Placeholder tensor that holds image data.\n",
    "    : keep_prob: Placeholder tensor that hold dropout keep probability.\n",
    "    : return: Tensor that represents logits\n",
    "    \"\"\"\n",
    "    # TODO: Apply 1, 2, or 3 Convolution and Max Pool layers\n",
    "    conv_num_outputs = 32\n",
    "    conv_ksize = (3,3)\n",
    "    conv_strides = (1,1)\n",
    "    pool_ksize = (3,3)\n",
    "    pool_strides = (1,1)\n",
    "    \n",
    "    # Layer 1 \n",
    "    conv = conv2d_maxpool(x, conv_num_outputs, conv_ksize, conv_strides, pool_ksize, pool_strides)\n",
    "\n",
    "    conv_num_outputs = 32\n",
    "    conv_ksize = (2,2)\n",
    "    conv_strides = (1,1)\n",
    "    pool_ksize = (2,2)\n",
    "    pool_strides = (1,1)\n",
    "    \n",
    "    # Layer 2 \n",
    "    conv = conv2d_maxpool(conv, conv_num_outputs, conv_ksize, conv_strides, pool_ksize, pool_strides)\n",
    "    \n",
    "    conv_num_outputs = 32\n",
    "    conv_ksize = (2,2)\n",
    "    conv_strides = (1,1)\n",
    "    pool_ksize = (2,2)\n",
    "    pool_strides = (1,1)\n",
    "    \n",
    "    # Layer 3 \n",
    "    conv = conv2d_maxpool(conv, conv_num_outputs, conv_ksize, conv_strides, pool_ksize, pool_strides)\n",
    "    \n",
    "    # TODO: Apply a Flatten Layer\n",
    "    flatten_layer = flatten(conv)\n",
    "    \n",
    "    \n",
    "    fc = fully_conn(flatten_layer, 32)\n",
    "    fc = tf.nn.dropout(fc, keep_prob)\n",
    "    fc = fully_conn(flatten_layer, 16)\n",
    "    fc = tf.nn.dropout(fc, keep_prob)\n",
    "    fc = fully_conn(flatten_layer, 8)\n",
    "\n",
    "    return output(fc, 10)\n",
    "\n",
    "\n",
    "\"\"\"\n",
    "DON'T MODIFY ANYTHING IN THIS CELL THAT IS BELOW THIS LINE\n",
    "\"\"\"\n",
    "\n",
    "##############################\n",
    "## Build the Neural Network ##\n",
    "##############################\n",
    "\n",
    "# Remove previous weights, bias, inputs, etc..\n",
    "tf.reset_default_graph()\n",
    "\n",
    "# Inputs\n",
    "x = neural_net_image_input((32, 32, 3))\n",
    "y = neural_net_label_input(10)\n",
    "keep_prob = neural_net_keep_prob_input()\n",
    "\n",
    "# Model\n",
    "logits = conv_net(x, keep_prob)\n",
    "\n",
    "# Name logits Tensor, so that is can be loaded from disk after training\n",
    "logits = tf.identity(logits, name='logits')\n",
    "\n",
    "# Loss and Optimizer\n",
    "cost = tf.reduce_mean(tf.nn.softmax_cross_entropy_with_logits(logits=logits, labels=y))\n",
    "optimizer = tf.train.AdamOptimizer().minimize(cost)\n",
    "\n",
    "# Accuracy\n",
    "correct_pred = tf.equal(tf.argmax(logits, 1), tf.argmax(y, 1))\n",
    "accuracy = tf.reduce_mean(tf.cast(correct_pred, tf.float32), name='accuracy')\n",
    "\n",
    "tests.test_conv_net(conv_net)"
   ]
  },
  {
   "cell_type": "markdown",
   "metadata": {
    "deletable": true,
    "editable": true
   },
   "source": [
    "## Train the Neural Network\n",
    "### Single Optimization\n",
    "Implement the function `train_neural_network` to do a single optimization.  The optimization should use `optimizer` to optimize in `session` with a `feed_dict` of the following:\n",
    "* `x` for image input\n",
    "* `y` for labels\n",
    "* `keep_prob` for keep probability for dropout\n",
    "\n",
    "This function will be called for each batch, so `tf.global_variables_initializer()` has already been called.\n",
    "\n",
    "Note: Nothing needs to be returned. This function is only optimizing the neural network."
   ]
  },
  {
   "cell_type": "code",
   "execution_count": 13,
   "metadata": {
    "collapsed": false,
    "deletable": true,
    "editable": true
   },
   "outputs": [
    {
     "name": "stdout",
     "output_type": "stream",
     "text": [
      "Tests Passed\n"
     ]
    }
   ],
   "source": [
    "def train_neural_network(session, optimizer, keep_probability, feature_batch, label_batch):\n",
    "    \"\"\"\n",
    "    Optimize the session on a batch of images and labels\n",
    "    : session: Current TensorFlow session\n",
    "    : optimizer: TensorFlow optimizer function\n",
    "    : keep_probability: keep probability\n",
    "    : feature_batch: Batch of Numpy image data\n",
    "    : label_batch: Batch of Numpy label data\n",
    "    \"\"\"\n",
    "    # TODO: Implement Function\n",
    "    session.run(optimizer, feed_dict={x: feature_batch, y: label_batch, keep_prob: keep_probability})\n",
    "\n",
    "\"\"\"\n",
    "DON'T MODIFY ANYTHING IN THIS CELL THAT IS BELOW THIS LINE\n",
    "\"\"\"\n",
    "tests.test_train_nn(train_neural_network)"
   ]
  },
  {
   "cell_type": "markdown",
   "metadata": {
    "deletable": true,
    "editable": true
   },
   "source": [
    "### Show Stats\n",
    "Implement the function `print_stats` to print loss and validation accuracy.  Use the global variables `valid_features` and `valid_labels` to calculate validation accuracy.  Use a keep probability of `1.0` to calculate the loss and validation accuracy."
   ]
  },
  {
   "cell_type": "code",
   "execution_count": 14,
   "metadata": {
    "collapsed": false,
    "deletable": true,
    "editable": true
   },
   "outputs": [],
   "source": [
    "def print_stats(session, feature_batch, label_batch, cost, accuracy):\n",
    "    \"\"\"\n",
    "    Print information about loss and validation accuracy\n",
    "    : session: Current TensorFlow session\n",
    "    : feature_batch: Batch of Numpy image data\n",
    "    : label_batch: Batch of Numpy label data\n",
    "    : cost: TensorFlow cost function\n",
    "    : accuracy: TensorFlow accuracy function\n",
    "    \"\"\"\n",
    "    # TODO: Implement Function\n",
    "    loss = session.run(cost, feed_dict={x: feature_batch, y: label_batch, keep_prob: 1.0})\n",
    "    accuracy = session.run(accuracy, feed_dict={x: valid_features, y: valid_labels, keep_prob: 1.0})\n",
    "    print(\"Loss: {}\".format(loss))\n",
    "    print(\"Accuracy: {}\".format(accuracy))"
   ]
  },
  {
   "cell_type": "markdown",
   "metadata": {
    "deletable": true,
    "editable": true
   },
   "source": [
    "### Hyperparameters\n",
    "Tune the following parameters:\n",
    "* Set `epochs` to the number of iterations until the network stops learning or start overfitting\n",
    "* Set `batch_size` to the highest number that your machine has memory for.  Most people set them to common sizes of memory:\n",
    " * 64\n",
    " * 128\n",
    " * 256\n",
    " * ...\n",
    "* Set `keep_probability` to the probability of keeping a node using dropout"
   ]
  },
  {
   "cell_type": "code",
   "execution_count": 15,
   "metadata": {
    "collapsed": true,
    "deletable": true,
    "editable": true
   },
   "outputs": [],
   "source": [
    "# TODO: Tune Parameters\n",
    "epochs = 50\n",
    "batch_size = 1024\n",
    "keep_probability = 0.5"
   ]
  },
  {
   "cell_type": "markdown",
   "metadata": {
    "deletable": true,
    "editable": true
   },
   "source": [
    "### Train on a Single CIFAR-10 Batch\n",
    "Instead of training the neural network on all the CIFAR-10 batches of data, let's use a single batch. This should save time while you iterate on the model to get a better accuracy.  Once the final validation accuracy is 50% or greater, run the model on all the data in the next section."
   ]
  },
  {
   "cell_type": "code",
   "execution_count": 16,
   "metadata": {
    "collapsed": false,
    "deletable": true,
    "editable": true
   },
   "outputs": [
    {
     "name": "stdout",
     "output_type": "stream",
     "text": [
      "Checking the Training on a Single Batch...\n",
      "Epoch  1, CIFAR-10 Batch 1:  Loss: 2.2911016941070557\n",
      "Accuracy: 0.1111999899148941\n",
      "Epoch  2, CIFAR-10 Batch 1:  Loss: 2.258345603942871\n",
      "Accuracy: 0.13519999384880066\n",
      "Epoch  3, CIFAR-10 Batch 1:  Loss: 2.220240354537964\n",
      "Accuracy: 0.15839998424053192\n",
      "Epoch  4, CIFAR-10 Batch 1:  Loss: 2.176650047302246\n",
      "Accuracy: 0.1873999983072281\n",
      "Epoch  5, CIFAR-10 Batch 1:  Loss: 2.10133695602417\n",
      "Accuracy: 0.202799990773201\n",
      "Epoch  6, CIFAR-10 Batch 1:  Loss: 2.039363384246826\n",
      "Accuracy: 0.2345999926328659\n",
      "Epoch  7, CIFAR-10 Batch 1:  Loss: 1.979233741760254\n",
      "Accuracy: 0.25359997153282166\n",
      "Epoch  8, CIFAR-10 Batch 1:  Loss: 1.8980644941329956\n",
      "Accuracy: 0.27799999713897705\n",
      "Epoch  9, CIFAR-10 Batch 1:  Loss: 1.8411128520965576\n",
      "Accuracy: 0.3003999888896942\n",
      "Epoch 10, CIFAR-10 Batch 1:  Loss: 1.7998526096343994\n",
      "Accuracy: 0.31679999828338623\n",
      "Epoch 11, CIFAR-10 Batch 1:  Loss: 1.760979175567627\n",
      "Accuracy: 0.3343999683856964\n",
      "Epoch 12, CIFAR-10 Batch 1:  Loss: 1.7156957387924194\n",
      "Accuracy: 0.3487999737262726\n",
      "Epoch 13, CIFAR-10 Batch 1:  Loss: 1.6782104969024658\n",
      "Accuracy: 0.3587999939918518\n",
      "Epoch 14, CIFAR-10 Batch 1:  Loss: 1.6491296291351318\n",
      "Accuracy: 0.3716000020503998\n",
      "Epoch 15, CIFAR-10 Batch 1:  Loss: 1.6293498277664185\n",
      "Accuracy: 0.3869999945163727\n",
      "Epoch 16, CIFAR-10 Batch 1:  Loss: 1.6119296550750732\n",
      "Accuracy: 0.3903999626636505\n",
      "Epoch 17, CIFAR-10 Batch 1:  Loss: 1.5918821096420288\n",
      "Accuracy: 0.39139994978904724\n",
      "Epoch 18, CIFAR-10 Batch 1:  Loss: 1.5780390501022339\n",
      "Accuracy: 0.3925999402999878\n",
      "Epoch 19, CIFAR-10 Batch 1:  Loss: 1.571697473526001\n",
      "Accuracy: 0.39479997754096985\n",
      "Epoch 20, CIFAR-10 Batch 1:  Loss: 1.5389904975891113\n",
      "Accuracy: 0.4187999665737152\n",
      "Epoch 21, CIFAR-10 Batch 1:  Loss: 1.525171160697937\n",
      "Accuracy: 0.4145999848842621\n",
      "Epoch 22, CIFAR-10 Batch 1:  Loss: 1.5044925212860107\n",
      "Accuracy: 0.4180000126361847\n",
      "Epoch 23, CIFAR-10 Batch 1:  Loss: 1.4875903129577637\n",
      "Accuracy: 0.42800000309944153\n",
      "Epoch 24, CIFAR-10 Batch 1:  Loss: 1.4773766994476318\n",
      "Accuracy: 0.4270000159740448\n",
      "Epoch 25, CIFAR-10 Batch 1:  Loss: 1.4614522457122803\n",
      "Accuracy: 0.4297999441623688\n",
      "Epoch 26, CIFAR-10 Batch 1:  Loss: 1.4485150575637817\n",
      "Accuracy: 0.4309999644756317\n",
      "Epoch 27, CIFAR-10 Batch 1:  Loss: 1.4348790645599365\n",
      "Accuracy: 0.4379999339580536\n",
      "Epoch 28, CIFAR-10 Batch 1:  Loss: 1.4190644025802612\n",
      "Accuracy: 0.4423999786376953\n",
      "Epoch 29, CIFAR-10 Batch 1:  Loss: 1.403804898262024\n",
      "Accuracy: 0.44919994473457336\n",
      "Epoch 30, CIFAR-10 Batch 1:  Loss: 1.3906006813049316\n",
      "Accuracy: 0.4498000144958496\n",
      "Epoch 31, CIFAR-10 Batch 1:  Loss: 1.3800840377807617\n",
      "Accuracy: 0.4527999758720398\n",
      "Epoch 32, CIFAR-10 Batch 1:  Loss: 1.368515968322754\n",
      "Accuracy: 0.45579996705055237\n",
      "Epoch 33, CIFAR-10 Batch 1:  Loss: 1.364041805267334\n",
      "Accuracy: 0.4569999575614929\n",
      "Epoch 34, CIFAR-10 Batch 1:  Loss: 1.350451111793518\n",
      "Accuracy: 0.46219995617866516\n",
      "Epoch 35, CIFAR-10 Batch 1:  Loss: 1.3320573568344116\n",
      "Accuracy: 0.46779996156692505\n",
      "Epoch 36, CIFAR-10 Batch 1:  Loss: 1.3156719207763672\n",
      "Accuracy: 0.47179996967315674\n",
      "Epoch 37, CIFAR-10 Batch 1:  Loss: 1.3057149648666382\n",
      "Accuracy: 0.47739994525909424\n",
      "Epoch 38, CIFAR-10 Batch 1:  Loss: 1.30446195602417\n",
      "Accuracy: 0.475399911403656\n",
      "Epoch 39, CIFAR-10 Batch 1:  Loss: 1.2963594198226929\n",
      "Accuracy: 0.48159998655319214\n",
      "Epoch 40, CIFAR-10 Batch 1:  Loss: 1.2763655185699463\n",
      "Accuracy: 0.4827999472618103\n",
      "Epoch 41, CIFAR-10 Batch 1:  Loss: 1.268836259841919\n",
      "Accuracy: 0.48399996757507324\n",
      "Epoch 42, CIFAR-10 Batch 1:  Loss: 1.2643697261810303\n",
      "Accuracy: 0.4813999831676483\n",
      "Epoch 43, CIFAR-10 Batch 1:  Loss: 1.2634090185165405\n",
      "Accuracy: 0.4795999526977539\n",
      "Epoch 44, CIFAR-10 Batch 1:  Loss: 1.2566872835159302\n",
      "Accuracy: 0.4803999662399292\n",
      "Epoch 45, CIFAR-10 Batch 1:  Loss: 1.2363317012786865\n",
      "Accuracy: 0.48899996280670166\n",
      "Epoch 46, CIFAR-10 Batch 1:  Loss: 1.2203065156936646\n",
      "Accuracy: 0.493399977684021\n",
      "Epoch 47, CIFAR-10 Batch 1:  Loss: 1.211829662322998\n",
      "Accuracy: 0.4949999451637268\n",
      "Epoch 48, CIFAR-10 Batch 1:  Loss: 1.2085790634155273\n",
      "Accuracy: 0.4923999607563019\n",
      "Epoch 49, CIFAR-10 Batch 1:  Loss: 1.2066794633865356\n",
      "Accuracy: 0.491599977016449\n",
      "Epoch 50, CIFAR-10 Batch 1:  Loss: 1.1884231567382812\n",
      "Accuracy: 0.49459993839263916\n"
     ]
    }
   ],
   "source": [
    "\"\"\"\n",
    "DON'T MODIFY ANYTHING IN THIS CELL\n",
    "\"\"\"\n",
    "print('Checking the Training on a Single Batch...')\n",
    "with tf.Session() as sess:\n",
    "    # Initializing the variables\n",
    "    sess.run(tf.global_variables_initializer())\n",
    "    \n",
    "    # Training cycle\n",
    "    for epoch in range(epochs):\n",
    "        batch_i = 1\n",
    "        for batch_features, batch_labels in helper.load_preprocess_training_batch(batch_i, batch_size):\n",
    "            train_neural_network(sess, optimizer, keep_probability, batch_features, batch_labels)\n",
    "        print('Epoch {:>2}, CIFAR-10 Batch {}:  '.format(epoch + 1, batch_i), end='')\n",
    "        print_stats(sess, batch_features, batch_labels, cost, accuracy)"
   ]
  },
  {
   "cell_type": "markdown",
   "metadata": {
    "deletable": true,
    "editable": true
   },
   "source": [
    "### Fully Train the Model\n",
    "Now that you got a good accuracy with a single CIFAR-10 batch, try it with all five batches."
   ]
  },
  {
   "cell_type": "code",
   "execution_count": 17,
   "metadata": {
    "collapsed": false,
    "deletable": true,
    "editable": true
   },
   "outputs": [
    {
     "name": "stdout",
     "output_type": "stream",
     "text": [
      "Training...\n",
      "Epoch  1, CIFAR-10 Batch 1:  Loss: 2.296050548553467\n",
      "Accuracy: 0.17579999566078186\n",
      "Epoch  1, CIFAR-10 Batch 2:  Loss: 2.2611210346221924\n",
      "Accuracy: 0.16220000386238098\n",
      "Epoch  1, CIFAR-10 Batch 3:  Loss: 2.2394297122955322\n",
      "Accuracy: 0.1809999942779541\n",
      "Epoch  1, CIFAR-10 Batch 4:  Loss: 2.129293441772461\n",
      "Accuracy: 0.20999999344348907\n",
      "Epoch  1, CIFAR-10 Batch 5:  Loss: 2.0501151084899902\n",
      "Accuracy: 0.20959998667240143\n",
      "Epoch  2, CIFAR-10 Batch 1:  Loss: 2.031074047088623\n",
      "Accuracy: 0.24399998784065247\n",
      "Epoch  2, CIFAR-10 Batch 2:  Loss: 1.9275065660476685\n",
      "Accuracy: 0.26479998230934143\n",
      "Epoch  2, CIFAR-10 Batch 3:  Loss: 1.8436341285705566\n",
      "Accuracy: 0.2833999991416931\n",
      "Epoch  2, CIFAR-10 Batch 4:  Loss: 1.8449409008026123\n",
      "Accuracy: 0.2889999747276306\n",
      "Epoch  2, CIFAR-10 Batch 5:  Loss: 1.7930514812469482\n",
      "Accuracy: 0.3084000051021576\n",
      "Epoch  3, CIFAR-10 Batch 1:  Loss: 1.815994381904602\n",
      "Accuracy: 0.32999998331069946\n",
      "Epoch  3, CIFAR-10 Batch 2:  Loss: 1.767479419708252\n",
      "Accuracy: 0.33239996433258057\n",
      "Epoch  3, CIFAR-10 Batch 3:  Loss: 1.6825159788131714\n",
      "Accuracy: 0.33619996905326843\n",
      "Epoch  3, CIFAR-10 Batch 4:  Loss: 1.7186404466629028\n",
      "Accuracy: 0.34699997305870056\n",
      "Epoch  3, CIFAR-10 Batch 5:  Loss: 1.6905009746551514\n",
      "Accuracy: 0.3452000021934509\n",
      "Epoch  4, CIFAR-10 Batch 1:  Loss: 1.730373501777649\n",
      "Accuracy: 0.36640000343322754\n",
      "Epoch  4, CIFAR-10 Batch 2:  Loss: 1.7028132677078247\n",
      "Accuracy: 0.36879998445510864\n",
      "Epoch  4, CIFAR-10 Batch 3:  Loss: 1.5904728174209595\n",
      "Accuracy: 0.3637999892234802\n",
      "Epoch  4, CIFAR-10 Batch 4:  Loss: 1.640014410018921\n",
      "Accuracy: 0.3855999708175659\n",
      "Epoch  4, CIFAR-10 Batch 5:  Loss: 1.615499496459961\n",
      "Accuracy: 0.38119998574256897\n",
      "Epoch  5, CIFAR-10 Batch 1:  Loss: 1.6620197296142578\n",
      "Accuracy: 0.3831999599933624\n",
      "Epoch  5, CIFAR-10 Batch 2:  Loss: 1.6475507020950317\n",
      "Accuracy: 0.3903999924659729\n",
      "Epoch  5, CIFAR-10 Batch 3:  Loss: 1.5147407054901123\n",
      "Accuracy: 0.392799973487854\n",
      "Epoch  5, CIFAR-10 Batch 4:  Loss: 1.5719883441925049\n",
      "Accuracy: 0.40519997477531433\n",
      "Epoch  5, CIFAR-10 Batch 5:  Loss: 1.5504701137542725\n",
      "Accuracy: 0.4115999937057495\n",
      "Epoch  6, CIFAR-10 Batch 1:  Loss: 1.5941119194030762\n",
      "Accuracy: 0.4121999442577362\n",
      "Epoch  6, CIFAR-10 Batch 2:  Loss: 1.5773361921310425\n",
      "Accuracy: 0.4203999936580658\n",
      "Epoch  6, CIFAR-10 Batch 3:  Loss: 1.453270435333252\n",
      "Accuracy: 0.4217999577522278\n",
      "Epoch  6, CIFAR-10 Batch 4:  Loss: 1.5253866910934448\n",
      "Accuracy: 0.41099992394447327\n",
      "Epoch  6, CIFAR-10 Batch 5:  Loss: 1.5057967901229858\n",
      "Accuracy: 0.4293999671936035\n",
      "Epoch  7, CIFAR-10 Batch 1:  Loss: 1.5536810159683228\n",
      "Accuracy: 0.4309999644756317\n",
      "Epoch  7, CIFAR-10 Batch 2:  Loss: 1.5540939569473267\n",
      "Accuracy: 0.433199942111969\n",
      "Epoch  7, CIFAR-10 Batch 3:  Loss: 1.412414312362671\n",
      "Accuracy: 0.4365999400615692\n",
      "Epoch  7, CIFAR-10 Batch 4:  Loss: 1.4887522459030151\n",
      "Accuracy: 0.4229999780654907\n",
      "Epoch  7, CIFAR-10 Batch 5:  Loss: 1.4697589874267578\n",
      "Accuracy: 0.4439999759197235\n",
      "Epoch  8, CIFAR-10 Batch 1:  Loss: 1.500839114189148\n",
      "Accuracy: 0.45039990544319153\n",
      "Epoch  8, CIFAR-10 Batch 2:  Loss: 1.4922970533370972\n",
      "Accuracy: 0.4561999440193176\n",
      "Epoch  8, CIFAR-10 Batch 3:  Loss: 1.359392762184143\n",
      "Accuracy: 0.4559999704360962\n",
      "Epoch  8, CIFAR-10 Batch 4:  Loss: 1.4413281679153442\n",
      "Accuracy: 0.44899997115135193\n",
      "Epoch  8, CIFAR-10 Batch 5:  Loss: 1.4281896352767944\n",
      "Accuracy: 0.4591999351978302\n",
      "Epoch  9, CIFAR-10 Batch 1:  Loss: 1.4826135635375977\n",
      "Accuracy: 0.46439996361732483\n",
      "Epoch  9, CIFAR-10 Batch 2:  Loss: 1.4559463262557983\n",
      "Accuracy: 0.4681999385356903\n",
      "Epoch  9, CIFAR-10 Batch 3:  Loss: 1.322265625\n",
      "Accuracy: 0.4665999710559845\n",
      "Epoch  9, CIFAR-10 Batch 4:  Loss: 1.406467318534851\n",
      "Accuracy: 0.4673999845981598\n",
      "Epoch  9, CIFAR-10 Batch 5:  Loss: 1.3975716829299927\n",
      "Accuracy: 0.46639999747276306\n",
      "Epoch 10, CIFAR-10 Batch 1:  Loss: 1.4409483671188354\n",
      "Accuracy: 0.4755999445915222\n",
      "Epoch 10, CIFAR-10 Batch 2:  Loss: 1.4293731451034546\n",
      "Accuracy: 0.48379993438720703\n",
      "Epoch 10, CIFAR-10 Batch 3:  Loss: 1.2948585748672485\n",
      "Accuracy: 0.47099995613098145\n",
      "Epoch 10, CIFAR-10 Batch 4:  Loss: 1.3746793270111084\n",
      "Accuracy: 0.47839999198913574\n",
      "Epoch 10, CIFAR-10 Batch 5:  Loss: 1.3616478443145752\n",
      "Accuracy: 0.47899994254112244\n",
      "Epoch 11, CIFAR-10 Batch 1:  Loss: 1.4086453914642334\n",
      "Accuracy: 0.4887999892234802\n",
      "Epoch 11, CIFAR-10 Batch 2:  Loss: 1.4031016826629639\n",
      "Accuracy: 0.49459993839263916\n",
      "Epoch 11, CIFAR-10 Batch 3:  Loss: 1.2612923383712769\n",
      "Accuracy: 0.48399996757507324\n",
      "Epoch 11, CIFAR-10 Batch 4:  Loss: 1.3410210609436035\n",
      "Accuracy: 0.4909999668598175\n",
      "Epoch 11, CIFAR-10 Batch 5:  Loss: 1.3285987377166748\n",
      "Accuracy: 0.4909999370574951\n",
      "Epoch 12, CIFAR-10 Batch 1:  Loss: 1.3759807348251343\n",
      "Accuracy: 0.49959999322891235\n",
      "Epoch 12, CIFAR-10 Batch 2:  Loss: 1.3689281940460205\n",
      "Accuracy: 0.5108000040054321\n",
      "Epoch 12, CIFAR-10 Batch 3:  Loss: 1.2206413745880127\n",
      "Accuracy: 0.506399929523468\n",
      "Epoch 12, CIFAR-10 Batch 4:  Loss: 1.3124403953552246\n",
      "Accuracy: 0.5025999546051025\n",
      "Epoch 12, CIFAR-10 Batch 5:  Loss: 1.3046836853027344\n",
      "Accuracy: 0.5025999546051025\n",
      "Epoch 13, CIFAR-10 Batch 1:  Loss: 1.3436150550842285\n",
      "Accuracy: 0.5071999430656433\n",
      "Epoch 13, CIFAR-10 Batch 2:  Loss: 1.3458526134490967\n",
      "Accuracy: 0.51419997215271\n",
      "Epoch 13, CIFAR-10 Batch 3:  Loss: 1.1935720443725586\n",
      "Accuracy: 0.5117998719215393\n",
      "Epoch 13, CIFAR-10 Batch 4:  Loss: 1.285061001777649\n",
      "Accuracy: 0.507599949836731\n",
      "Epoch 13, CIFAR-10 Batch 5:  Loss: 1.2836586236953735\n",
      "Accuracy: 0.5155999660491943\n",
      "Epoch 14, CIFAR-10 Batch 1:  Loss: 1.3194918632507324\n",
      "Accuracy: 0.5183999538421631\n",
      "Epoch 14, CIFAR-10 Batch 2:  Loss: 1.3237943649291992\n",
      "Accuracy: 0.5187999606132507\n",
      "Epoch 14, CIFAR-10 Batch 3:  Loss: 1.1700446605682373\n",
      "Accuracy: 0.5219999551773071\n",
      "Epoch 14, CIFAR-10 Batch 4:  Loss: 1.2582709789276123\n",
      "Accuracy: 0.5189999341964722\n",
      "Epoch 14, CIFAR-10 Batch 5:  Loss: 1.2597346305847168\n",
      "Accuracy: 0.524199903011322\n",
      "Epoch 15, CIFAR-10 Batch 1:  Loss: 1.3092113733291626\n",
      "Accuracy: 0.5171999335289001\n",
      "Epoch 15, CIFAR-10 Batch 2:  Loss: 1.3101551532745361\n",
      "Accuracy: 0.5233999490737915\n",
      "Epoch 15, CIFAR-10 Batch 3:  Loss: 1.1517387628555298\n",
      "Accuracy: 0.529999852180481\n",
      "Epoch 15, CIFAR-10 Batch 4:  Loss: 1.2328078746795654\n",
      "Accuracy: 0.5297999382019043\n",
      "Epoch 15, CIFAR-10 Batch 5:  Loss: 1.2353744506835938\n",
      "Accuracy: 0.5306000113487244\n",
      "Epoch 16, CIFAR-10 Batch 1:  Loss: 1.286711573600769\n",
      "Accuracy: 0.5279999375343323\n",
      "Epoch 16, CIFAR-10 Batch 2:  Loss: 1.2899562120437622\n",
      "Accuracy: 0.5251999497413635\n",
      "Epoch 16, CIFAR-10 Batch 3:  Loss: 1.1407583951950073\n",
      "Accuracy: 0.5339999794960022\n",
      "Epoch 16, CIFAR-10 Batch 4:  Loss: 1.206666350364685\n",
      "Accuracy: 0.5353999137878418\n",
      "Epoch 16, CIFAR-10 Batch 5:  Loss: 1.2113308906555176\n",
      "Accuracy: 0.5361999869346619\n",
      "Epoch 17, CIFAR-10 Batch 1:  Loss: 1.2693533897399902\n",
      "Accuracy: 0.5291999578475952\n",
      "Epoch 17, CIFAR-10 Batch 2:  Loss: 1.2789331674575806\n",
      "Accuracy: 0.5191999077796936\n",
      "Epoch 17, CIFAR-10 Batch 3:  Loss: 1.1349570751190186\n",
      "Accuracy: 0.533799946308136\n",
      "Epoch 17, CIFAR-10 Batch 4:  Loss: 1.1880992650985718\n",
      "Accuracy: 0.5401999354362488\n",
      "Epoch 17, CIFAR-10 Batch 5:  Loss: 1.188934326171875\n",
      "Accuracy: 0.5389999747276306\n",
      "Epoch 18, CIFAR-10 Batch 1:  Loss: 1.2553654909133911\n",
      "Accuracy: 0.53739994764328\n",
      "Epoch 18, CIFAR-10 Batch 2:  Loss: 1.2557895183563232\n",
      "Accuracy: 0.5317999720573425\n",
      "Epoch 18, CIFAR-10 Batch 3:  Loss: 1.129479169845581\n",
      "Accuracy: 0.5353999733924866\n",
      "Epoch 18, CIFAR-10 Batch 4:  Loss: 1.1739501953125\n",
      "Accuracy: 0.5415999293327332\n",
      "Epoch 18, CIFAR-10 Batch 5:  Loss: 1.1707186698913574\n",
      "Accuracy: 0.5419999361038208\n",
      "Epoch 19, CIFAR-10 Batch 1:  Loss: 1.238031029701233\n",
      "Accuracy: 0.5447999238967896\n",
      "Epoch 19, CIFAR-10 Batch 2:  Loss: 1.223383903503418\n",
      "Accuracy: 0.544999897480011\n",
      "Epoch 19, CIFAR-10 Batch 3:  Loss: 1.1061034202575684\n",
      "Accuracy: 0.5409999489784241\n",
      "Epoch 19, CIFAR-10 Batch 4:  Loss: 1.154120683670044\n",
      "Accuracy: 0.5489999651908875\n",
      "Epoch 19, CIFAR-10 Batch 5:  Loss: 1.1544047594070435\n",
      "Accuracy: 0.5435999035835266\n",
      "Epoch 20, CIFAR-10 Batch 1:  Loss: 1.2170525789260864\n",
      "Accuracy: 0.5477999448776245\n",
      "Epoch 20, CIFAR-10 Batch 2:  Loss: 1.218683123588562\n",
      "Accuracy: 0.548599898815155\n",
      "Epoch 20, CIFAR-10 Batch 3:  Loss: 1.0764247179031372\n",
      "Accuracy: 0.5527999401092529\n",
      "Epoch 20, CIFAR-10 Batch 4:  Loss: 1.1342042684555054\n",
      "Accuracy: 0.5583999156951904\n",
      "Epoch 20, CIFAR-10 Batch 5:  Loss: 1.1389822959899902\n",
      "Accuracy: 0.5517999529838562\n",
      "Epoch 21, CIFAR-10 Batch 1:  Loss: 1.1939891576766968\n",
      "Accuracy: 0.5571999549865723\n",
      "Epoch 21, CIFAR-10 Batch 2:  Loss: 1.2044780254364014\n",
      "Accuracy: 0.5499999523162842\n",
      "Epoch 21, CIFAR-10 Batch 3:  Loss: 1.0681328773498535\n",
      "Accuracy: 0.556399941444397\n",
      "Epoch 21, CIFAR-10 Batch 4:  Loss: 1.1238306760787964\n",
      "Accuracy: 0.5653998851776123\n",
      "Epoch 21, CIFAR-10 Batch 5:  Loss: 1.1261345148086548\n",
      "Accuracy: 0.5567998886108398\n",
      "Epoch 22, CIFAR-10 Batch 1:  Loss: 1.1849236488342285\n",
      "Accuracy: 0.5629999041557312\n",
      "Epoch 22, CIFAR-10 Batch 2:  Loss: 1.1842039823532104\n",
      "Accuracy: 0.5577999353408813\n",
      "Epoch 22, CIFAR-10 Batch 3:  Loss: 1.0611002445220947\n",
      "Accuracy: 0.5613999366760254\n",
      "Epoch 22, CIFAR-10 Batch 4:  Loss: 1.1126716136932373\n",
      "Accuracy: 0.5683999061584473\n",
      "Epoch 22, CIFAR-10 Batch 5:  Loss: 1.1134545803070068\n",
      "Accuracy: 0.5625999569892883\n",
      "Epoch 23, CIFAR-10 Batch 1:  Loss: 1.1776180267333984\n",
      "Accuracy: 0.5643998980522156\n",
      "Epoch 23, CIFAR-10 Batch 2:  Loss: 1.1693940162658691\n",
      "Accuracy: 0.5633999705314636\n",
      "Epoch 23, CIFAR-10 Batch 3:  Loss: 1.045667052268982\n",
      "Accuracy: 0.5697999000549316\n",
      "Epoch 23, CIFAR-10 Batch 4:  Loss: 1.1045807600021362\n",
      "Accuracy: 0.5719999670982361\n",
      "Epoch 23, CIFAR-10 Batch 5:  Loss: 1.100492000579834\n",
      "Accuracy: 0.5657999515533447\n",
      "Epoch 24, CIFAR-10 Batch 1:  Loss: 1.167974591255188\n",
      "Accuracy: 0.5651999115943909\n",
      "Epoch 24, CIFAR-10 Batch 2:  Loss: 1.1650440692901611\n",
      "Accuracy: 0.5631999373435974\n",
      "Epoch 24, CIFAR-10 Batch 3:  Loss: 1.0292211771011353\n",
      "Accuracy: 0.5753999352455139\n",
      "Epoch 24, CIFAR-10 Batch 4:  Loss: 1.0931065082550049\n",
      "Accuracy: 0.5779999494552612\n",
      "Epoch 24, CIFAR-10 Batch 5:  Loss: 1.0855116844177246\n",
      "Accuracy: 0.5743999481201172\n",
      "Epoch 25, CIFAR-10 Batch 1:  Loss: 1.1524397134780884\n",
      "Accuracy: 0.5661998987197876\n",
      "Epoch 25, CIFAR-10 Batch 2:  Loss: 1.1504324674606323\n",
      "Accuracy: 0.5687999129295349\n",
      "Epoch 25, CIFAR-10 Batch 3:  Loss: 1.0296835899353027\n",
      "Accuracy: 0.5783999562263489\n",
      "Epoch 25, CIFAR-10 Batch 4:  Loss: 1.078134298324585\n",
      "Accuracy: 0.5863999128341675\n",
      "Epoch 25, CIFAR-10 Batch 5:  Loss: 1.0691653490066528\n",
      "Accuracy: 0.5811998844146729\n",
      "Epoch 26, CIFAR-10 Batch 1:  Loss: 1.1428463459014893\n",
      "Accuracy: 0.5701999664306641\n",
      "Epoch 26, CIFAR-10 Batch 2:  Loss: 1.1353713274002075\n",
      "Accuracy: 0.5723998546600342\n",
      "Epoch 26, CIFAR-10 Batch 3:  Loss: 1.0218912363052368\n",
      "Accuracy: 0.5805999040603638\n",
      "Epoch 26, CIFAR-10 Batch 4:  Loss: 1.0694669485092163\n",
      "Accuracy: 0.5881999731063843\n",
      "Epoch 26, CIFAR-10 Batch 5:  Loss: 1.0625005960464478\n",
      "Accuracy: 0.5839999318122864\n",
      "Epoch 27, CIFAR-10 Batch 1:  Loss: 1.1331409215927124\n",
      "Accuracy: 0.5729999542236328\n",
      "Epoch 27, CIFAR-10 Batch 2:  Loss: 1.1185660362243652\n",
      "Accuracy: 0.5785999298095703\n",
      "Epoch 27, CIFAR-10 Batch 3:  Loss: 1.0098170042037964\n",
      "Accuracy: 0.5831999182701111\n",
      "Epoch 27, CIFAR-10 Batch 4:  Loss: 1.057930588722229\n",
      "Accuracy: 0.5905998945236206\n",
      "Epoch 27, CIFAR-10 Batch 5:  Loss: 1.0517995357513428\n",
      "Accuracy: 0.5849999785423279\n",
      "Epoch 28, CIFAR-10 Batch 1:  Loss: 1.1224932670593262\n",
      "Accuracy: 0.5789998769760132\n",
      "Epoch 28, CIFAR-10 Batch 2:  Loss: 1.1067363023757935\n",
      "Accuracy: 0.5813999772071838\n",
      "Epoch 28, CIFAR-10 Batch 3:  Loss: 1.0015372037887573\n",
      "Accuracy: 0.5881999731063843\n",
      "Epoch 28, CIFAR-10 Batch 4:  Loss: 1.0496824979782104\n",
      "Accuracy: 0.5915999412536621\n",
      "Epoch 28, CIFAR-10 Batch 5:  Loss: 1.0424320697784424\n",
      "Accuracy: 0.5877999067306519\n",
      "Epoch 29, CIFAR-10 Batch 1:  Loss: 1.1102056503295898\n",
      "Accuracy: 0.5835999250411987\n",
      "Epoch 29, CIFAR-10 Batch 2:  Loss: 1.097867727279663\n",
      "Accuracy: 0.5815998911857605\n",
      "Epoch 29, CIFAR-10 Batch 3:  Loss: 0.9953755736351013\n",
      "Accuracy: 0.5895999670028687\n",
      "Epoch 29, CIFAR-10 Batch 4:  Loss: 1.0422254800796509\n",
      "Accuracy: 0.5971999168395996\n",
      "Epoch 29, CIFAR-10 Batch 5:  Loss: 1.03551185131073\n",
      "Accuracy: 0.5923999547958374\n",
      "Epoch 30, CIFAR-10 Batch 1:  Loss: 1.1011520624160767\n",
      "Accuracy: 0.5857999324798584\n",
      "Epoch 30, CIFAR-10 Batch 2:  Loss: 1.0872901678085327\n",
      "Accuracy: 0.5823999047279358\n",
      "Epoch 30, CIFAR-10 Batch 3:  Loss: 0.9903056025505066\n",
      "Accuracy: 0.5883999466896057\n",
      "Epoch 30, CIFAR-10 Batch 4:  Loss: 1.03551185131073\n",
      "Accuracy: 0.5991998910903931\n",
      "Epoch 30, CIFAR-10 Batch 5:  Loss: 1.029078722000122\n",
      "Accuracy: 0.5947998762130737\n",
      "Epoch 31, CIFAR-10 Batch 1:  Loss: 1.0919404029846191\n",
      "Accuracy: 0.5893999338150024\n",
      "Epoch 31, CIFAR-10 Batch 2:  Loss: 1.0806248188018799\n",
      "Accuracy: 0.5827999114990234\n",
      "Epoch 31, CIFAR-10 Batch 3:  Loss: 0.9892340302467346\n",
      "Accuracy: 0.5913999080657959\n",
      "Epoch 31, CIFAR-10 Batch 4:  Loss: 1.028800368309021\n",
      "Accuracy: 0.6007999181747437\n",
      "Epoch 31, CIFAR-10 Batch 5:  Loss: 1.0224889516830444\n",
      "Accuracy: 0.5977998971939087\n",
      "Epoch 32, CIFAR-10 Batch 1:  Loss: 1.0829098224639893\n",
      "Accuracy: 0.5917999148368835\n",
      "Epoch 32, CIFAR-10 Batch 2:  Loss: 1.0769445896148682\n",
      "Accuracy: 0.5799998641014099\n",
      "Epoch 32, CIFAR-10 Batch 3:  Loss: 0.9924817681312561\n",
      "Accuracy: 0.5923998951911926\n",
      "Epoch 32, CIFAR-10 Batch 4:  Loss: 1.0243175029754639\n",
      "Accuracy: 0.6045998930931091\n",
      "Epoch 32, CIFAR-10 Batch 5:  Loss: 1.015094518661499\n",
      "Accuracy: 0.6013999581336975\n",
      "Epoch 33, CIFAR-10 Batch 1:  Loss: 1.0710335969924927\n",
      "Accuracy: 0.5953999757766724\n",
      "Epoch 33, CIFAR-10 Batch 2:  Loss: 1.0906039476394653\n",
      "Accuracy: 0.5719999074935913\n",
      "Epoch 33, CIFAR-10 Batch 3:  Loss: 0.9828915596008301\n",
      "Accuracy: 0.5999999046325684\n",
      "Epoch 33, CIFAR-10 Batch 4:  Loss: 1.0353717803955078\n",
      "Accuracy: 0.6005998849868774\n",
      "Epoch 33, CIFAR-10 Batch 5:  Loss: 1.0094521045684814\n",
      "Accuracy: 0.6039999127388\n",
      "Epoch 34, CIFAR-10 Batch 1:  Loss: 1.0847707986831665\n",
      "Accuracy: 0.590799868106842\n",
      "Epoch 34, CIFAR-10 Batch 2:  Loss: 1.0601203441619873\n",
      "Accuracy: 0.5977999567985535\n",
      "Epoch 34, CIFAR-10 Batch 3:  Loss: 0.9701629281044006\n",
      "Accuracy: 0.6009998917579651\n",
      "Epoch 34, CIFAR-10 Batch 4:  Loss: 1.009431004524231\n",
      "Accuracy: 0.6067999005317688\n",
      "Epoch 34, CIFAR-10 Batch 5:  Loss: 1.0078332424163818\n",
      "Accuracy: 0.6039999127388\n",
      "Epoch 35, CIFAR-10 Batch 1:  Loss: 1.0630619525909424\n",
      "Accuracy: 0.6009999513626099\n",
      "Epoch 35, CIFAR-10 Batch 2:  Loss: 1.0425869226455688\n",
      "Accuracy: 0.5963999032974243\n",
      "Epoch 35, CIFAR-10 Batch 3:  Loss: 0.9618564248085022\n",
      "Accuracy: 0.6055999398231506\n",
      "Epoch 35, CIFAR-10 Batch 4:  Loss: 1.0018008947372437\n",
      "Accuracy: 0.6071999073028564\n",
      "Epoch 35, CIFAR-10 Batch 5:  Loss: 1.0010697841644287\n",
      "Accuracy: 0.6037999391555786\n",
      "Epoch 36, CIFAR-10 Batch 1:  Loss: 1.0508908033370972\n",
      "Accuracy: 0.605199933052063\n",
      "Epoch 36, CIFAR-10 Batch 2:  Loss: 1.0411359071731567\n",
      "Accuracy: 0.597399890422821\n",
      "Epoch 36, CIFAR-10 Batch 3:  Loss: 0.9558802247047424\n",
      "Accuracy: 0.6113998889923096\n",
      "Epoch 36, CIFAR-10 Batch 4:  Loss: 0.997429609298706\n",
      "Accuracy: 0.6067999005317688\n",
      "Epoch 36, CIFAR-10 Batch 5:  Loss: 0.9907442331314087\n",
      "Accuracy: 0.6089999079704285\n",
      "Epoch 37, CIFAR-10 Batch 1:  Loss: 1.0427430868148804\n",
      "Accuracy: 0.610599935054779\n",
      "Epoch 37, CIFAR-10 Batch 2:  Loss: 1.0348601341247559\n",
      "Accuracy: 0.597599983215332\n",
      "Epoch 37, CIFAR-10 Batch 3:  Loss: 0.9527628421783447\n",
      "Accuracy: 0.6139999032020569\n",
      "Epoch 37, CIFAR-10 Batch 4:  Loss: 0.9924944639205933\n",
      "Accuracy: 0.6089999079704285\n",
      "Epoch 37, CIFAR-10 Batch 5:  Loss: 0.9838919639587402\n",
      "Accuracy: 0.6111999154090881\n",
      "Epoch 38, CIFAR-10 Batch 1:  Loss: 1.0370678901672363\n",
      "Accuracy: 0.6091998815536499\n",
      "Epoch 38, CIFAR-10 Batch 2:  Loss: 1.0291829109191895\n",
      "Accuracy: 0.598599910736084\n",
      "Epoch 38, CIFAR-10 Batch 3:  Loss: 0.9481080770492554\n",
      "Accuracy: 0.6135998964309692\n",
      "Epoch 38, CIFAR-10 Batch 4:  Loss: 0.9876812696456909\n",
      "Accuracy: 0.6077999472618103\n",
      "Epoch 38, CIFAR-10 Batch 5:  Loss: 0.9795780181884766\n",
      "Accuracy: 0.6123998761177063\n",
      "Epoch 39, CIFAR-10 Batch 1:  Loss: 1.031813383102417\n",
      "Accuracy: 0.6091999411582947\n",
      "Epoch 39, CIFAR-10 Batch 2:  Loss: 1.0234801769256592\n",
      "Accuracy: 0.5995998382568359\n",
      "Epoch 39, CIFAR-10 Batch 3:  Loss: 0.9434974193572998\n",
      "Accuracy: 0.6137998700141907\n",
      "Epoch 39, CIFAR-10 Batch 4:  Loss: 0.9828227758407593\n",
      "Accuracy: 0.6113998889923096\n",
      "Epoch 39, CIFAR-10 Batch 5:  Loss: 0.9754863977432251\n",
      "Accuracy: 0.6139999032020569\n",
      "Epoch 40, CIFAR-10 Batch 1:  Loss: 1.026971697807312\n",
      "Accuracy: 0.6097999215126038\n",
      "Epoch 40, CIFAR-10 Batch 2:  Loss: 1.0127239227294922\n",
      "Accuracy: 0.602199912071228\n",
      "Epoch 40, CIFAR-10 Batch 3:  Loss: 0.941078782081604\n",
      "Accuracy: 0.6137998700141907\n",
      "Epoch 40, CIFAR-10 Batch 4:  Loss: 0.9787598848342896\n",
      "Accuracy: 0.6091999411582947\n",
      "Epoch 40, CIFAR-10 Batch 5:  Loss: 0.9716609120368958\n",
      "Accuracy: 0.6155998706817627\n",
      "Epoch 41, CIFAR-10 Batch 1:  Loss: 1.021981954574585\n",
      "Accuracy: 0.6109999418258667\n",
      "Epoch 41, CIFAR-10 Batch 2:  Loss: 1.0041792392730713\n",
      "Accuracy: 0.6061998605728149\n",
      "Epoch 41, CIFAR-10 Batch 3:  Loss: 0.9380499720573425\n",
      "Accuracy: 0.6141998767852783\n",
      "Epoch 41, CIFAR-10 Batch 4:  Loss: 0.9758375287055969\n",
      "Accuracy: 0.608799934387207\n",
      "Epoch 41, CIFAR-10 Batch 5:  Loss: 0.9690147638320923\n",
      "Accuracy: 0.6153998970985413\n",
      "Epoch 42, CIFAR-10 Batch 1:  Loss: 1.0158640146255493\n",
      "Accuracy: 0.611799955368042\n",
      "Epoch 42, CIFAR-10 Batch 2:  Loss: 0.9938432574272156\n",
      "Accuracy: 0.6083999276161194\n",
      "Epoch 42, CIFAR-10 Batch 3:  Loss: 0.9362767338752747\n",
      "Accuracy: 0.6149999499320984\n",
      "Epoch 42, CIFAR-10 Batch 4:  Loss: 0.971908450126648\n",
      "Accuracy: 0.6115999221801758\n",
      "Epoch 42, CIFAR-10 Batch 5:  Loss: 0.9681513905525208\n",
      "Accuracy: 0.6153998970985413\n",
      "Epoch 43, CIFAR-10 Batch 1:  Loss: 1.0097808837890625\n",
      "Accuracy: 0.6161999106407166\n",
      "Epoch 43, CIFAR-10 Batch 2:  Loss: 0.9850472807884216\n",
      "Accuracy: 0.6083999276161194\n",
      "Epoch 43, CIFAR-10 Batch 3:  Loss: 0.9359411001205444\n",
      "Accuracy: 0.6161999106407166\n",
      "Epoch 43, CIFAR-10 Batch 4:  Loss: 0.9692472219467163\n",
      "Accuracy: 0.6097999215126038\n",
      "Epoch 43, CIFAR-10 Batch 5:  Loss: 0.9656661748886108\n",
      "Accuracy: 0.6203998923301697\n",
      "Epoch 44, CIFAR-10 Batch 1:  Loss: 1.0047225952148438\n",
      "Accuracy: 0.6187999248504639\n",
      "Epoch 44, CIFAR-10 Batch 2:  Loss: 0.9793739318847656\n",
      "Accuracy: 0.6085999011993408\n",
      "Epoch 44, CIFAR-10 Batch 3:  Loss: 0.9352912306785583\n",
      "Accuracy: 0.6187999248504639\n",
      "Epoch 44, CIFAR-10 Batch 4:  Loss: 0.9687654376029968\n",
      "Accuracy: 0.6107999086380005\n",
      "Epoch 44, CIFAR-10 Batch 5:  Loss: 0.9635139107704163\n",
      "Accuracy: 0.621799886226654\n",
      "Epoch 45, CIFAR-10 Batch 1:  Loss: 0.9998806715011597\n",
      "Accuracy: 0.6187999248504639\n",
      "Epoch 45, CIFAR-10 Batch 2:  Loss: 0.971114456653595\n",
      "Accuracy: 0.610599935054779\n",
      "Epoch 45, CIFAR-10 Batch 3:  Loss: 0.9377504587173462\n",
      "Accuracy: 0.6185998916625977\n",
      "Epoch 45, CIFAR-10 Batch 4:  Loss: 0.9687545895576477\n",
      "Accuracy: 0.6121999025344849\n",
      "Epoch 45, CIFAR-10 Batch 5:  Loss: 0.9614118337631226\n",
      "Accuracy: 0.621799886226654\n",
      "Epoch 46, CIFAR-10 Batch 1:  Loss: 0.9950718879699707\n",
      "Accuracy: 0.6227999329566956\n",
      "Epoch 46, CIFAR-10 Batch 2:  Loss: 0.9658427238464355\n",
      "Accuracy: 0.6069998741149902\n",
      "Epoch 46, CIFAR-10 Batch 3:  Loss: 0.9428189396858215\n",
      "Accuracy: 0.6157999634742737\n",
      "Epoch 46, CIFAR-10 Batch 4:  Loss: 0.9642066955566406\n",
      "Accuracy: 0.6115999221801758\n",
      "Epoch 46, CIFAR-10 Batch 5:  Loss: 0.9547491669654846\n",
      "Accuracy: 0.6221998929977417\n",
      "Epoch 47, CIFAR-10 Batch 1:  Loss: 0.9928533434867859\n",
      "Accuracy: 0.6249998807907104\n",
      "Epoch 47, CIFAR-10 Batch 2:  Loss: 0.9620051980018616\n",
      "Accuracy: 0.607999861240387\n",
      "Epoch 47, CIFAR-10 Batch 3:  Loss: 0.9415637850761414\n",
      "Accuracy: 0.6141998767852783\n",
      "Epoch 47, CIFAR-10 Batch 4:  Loss: 0.9575080275535583\n",
      "Accuracy: 0.6185998916625977\n",
      "Epoch 47, CIFAR-10 Batch 5:  Loss: 0.9478435516357422\n",
      "Accuracy: 0.6233999133110046\n",
      "Epoch 48, CIFAR-10 Batch 1:  Loss: 0.9905692338943481\n",
      "Accuracy: 0.6273999214172363\n",
      "Epoch 48, CIFAR-10 Batch 2:  Loss: 0.9578240513801575\n",
      "Accuracy: 0.6107998490333557\n",
      "Epoch 48, CIFAR-10 Batch 3:  Loss: 0.9369546175003052\n",
      "Accuracy: 0.6155999302864075\n",
      "Epoch 48, CIFAR-10 Batch 4:  Loss: 0.9505562782287598\n",
      "Accuracy: 0.6199999451637268\n",
      "Epoch 48, CIFAR-10 Batch 5:  Loss: 0.9426775574684143\n",
      "Accuracy: 0.6233999133110046\n",
      "Epoch 49, CIFAR-10 Batch 1:  Loss: 0.9879315495491028\n",
      "Accuracy: 0.626599907875061\n",
      "Epoch 49, CIFAR-10 Batch 2:  Loss: 0.9510375261306763\n",
      "Accuracy: 0.612799882888794\n",
      "Epoch 49, CIFAR-10 Batch 3:  Loss: 0.9293543100357056\n",
      "Accuracy: 0.6189998984336853\n",
      "Epoch 49, CIFAR-10 Batch 4:  Loss: 0.9430903196334839\n",
      "Accuracy: 0.6223999261856079\n",
      "Epoch 49, CIFAR-10 Batch 5:  Loss: 0.9368106722831726\n",
      "Accuracy: 0.6283999085426331\n",
      "Epoch 50, CIFAR-10 Batch 1:  Loss: 0.9835283160209656\n",
      "Accuracy: 0.6275998950004578\n",
      "Epoch 50, CIFAR-10 Batch 2:  Loss: 0.9475091099739075\n",
      "Accuracy: 0.6147999167442322\n",
      "Epoch 50, CIFAR-10 Batch 3:  Loss: 0.9232790470123291\n",
      "Accuracy: 0.6221999526023865\n",
      "Epoch 50, CIFAR-10 Batch 4:  Loss: 0.9373563528060913\n",
      "Accuracy: 0.6231998801231384\n",
      "Epoch 50, CIFAR-10 Batch 5:  Loss: 0.9279594421386719\n",
      "Accuracy: 0.6281998753547668\n"
     ]
    }
   ],
   "source": [
    "\"\"\"\n",
    "DON'T MODIFY ANYTHING IN THIS CELL\n",
    "\"\"\"\n",
    "save_model_path = './image_classification'\n",
    "\n",
    "print('Training...')\n",
    "with tf.Session() as sess:\n",
    "    # Initializing the variables\n",
    "    sess.run(tf.global_variables_initializer())\n",
    "    \n",
    "    # Training cycle\n",
    "    for epoch in range(epochs):\n",
    "        # Loop over all batches\n",
    "        n_batches = 5\n",
    "        for batch_i in range(1, n_batches + 1):\n",
    "            for batch_features, batch_labels in helper.load_preprocess_training_batch(batch_i, batch_size):\n",
    "                train_neural_network(sess, optimizer, keep_probability, batch_features, batch_labels)\n",
    "            print('Epoch {:>2}, CIFAR-10 Batch {}:  '.format(epoch + 1, batch_i), end='')\n",
    "            print_stats(sess, batch_features, batch_labels, cost, accuracy)\n",
    "            \n",
    "    # Save Model\n",
    "    saver = tf.train.Saver()\n",
    "    save_path = saver.save(sess, save_model_path)"
   ]
  },
  {
   "cell_type": "markdown",
   "metadata": {
    "deletable": true,
    "editable": true
   },
   "source": [
    "# Checkpoint\n",
    "The model has been saved to disk.\n",
    "## Test Model\n",
    "Test your model against the test dataset.  This will be your final accuracy. You should have an accuracy greater than 50%. If you don't, keep tweaking the model architecture and parameters."
   ]
  },
  {
   "cell_type": "code",
   "execution_count": 18,
   "metadata": {
    "collapsed": false,
    "deletable": true,
    "editable": true
   },
   "outputs": [
    {
     "name": "stdout",
     "output_type": "stream",
     "text": [
      "Testing Accuracy: 0.6193837642669677\n",
      "\n"
     ]
    },
    {
     "data": {
      "image/png": "[encoded data removed]",
      "text/plain": [
       "<matplotlib.figure.Figure at 0x7f72718b4ef0>"
      ]
     },
     "metadata": {
      "image/png": {
       "height": 319,
       "width": 355
      }
     },
     "output_type": "display_data"
    }
   ],
   "source": [
    "\"\"\"\n",
    "DON'T MODIFY ANYTHING IN THIS CELL\n",
    "\"\"\"\n",
    "%matplotlib inline\n",
    "%config InlineBackend.figure_format = 'retina'\n",
    "\n",
    "import tensorflow as tf\n",
    "import pickle\n",
    "import helper\n",
    "import random\n",
    "\n",
    "# Set batch size if not already set\n",
    "try:\n",
    "    if batch_size:\n",
    "        pass\n",
    "except NameError:\n",
    "    batch_size = 64\n",
    "\n",
    "save_model_path = './image_classification'\n",
    "n_samples = 4\n",
    "top_n_predictions = 3\n",
    "\n",
    "def test_model():\n",
    "    \"\"\"\n",
    "    Test the saved model against the test dataset\n",
    "    \"\"\"\n",
    "\n",
    "    test_features, test_labels = pickle.load(open('preprocess_training.p', mode='rb'))\n",
    "    loaded_graph = tf.Graph()\n",
    "\n",
    "    with tf.Session(graph=loaded_graph) as sess:\n",
    "        # Load model\n",
    "        loader = tf.train.import_meta_graph(save_model_path + '.meta')\n",
    "        loader.restore(sess, save_model_path)\n",
    "\n",
    "        # Get Tensors from loaded model\n",
    "        loaded_x = loaded_graph.get_tensor_by_name('x:0')\n",
    "        loaded_y = loaded_graph.get_tensor_by_name('y:0')\n",
    "        loaded_keep_prob = loaded_graph.get_tensor_by_name('keep_prob:0')\n",
    "        loaded_logits = loaded_graph.get_tensor_by_name('logits:0')\n",
    "        loaded_acc = loaded_graph.get_tensor_by_name('accuracy:0')\n",
    "        \n",
    "        # Get accuracy in batches for memory limitations\n",
    "        test_batch_acc_total = 0\n",
    "        test_batch_count = 0\n",
    "        \n",
    "        for train_feature_batch, train_label_batch in helper.batch_features_labels(test_features, test_labels, batch_size):\n",
    "            test_batch_acc_total += sess.run(\n",
    "                loaded_acc,\n",
    "                feed_dict={loaded_x: train_feature_batch, loaded_y: train_label_batch, loaded_keep_prob: 1.0})\n",
    "            test_batch_count += 1\n",
    "\n",
    "        print('Testing Accuracy: {}\\n'.format(test_batch_acc_total/test_batch_count))\n",
    "\n",
    "        # Print Random Samples\n",
    "        random_test_features, random_test_labels = tuple(zip(*random.sample(list(zip(test_features, test_labels)), n_samples)))\n",
    "        random_test_predictions = sess.run(\n",
    "            tf.nn.top_k(tf.nn.softmax(loaded_logits), top_n_predictions),\n",
    "            feed_dict={loaded_x: random_test_features, loaded_y: random_test_labels, loaded_keep_prob: 1.0})\n",
    "        helper.display_image_predictions(random_test_features, random_test_labels, random_test_predictions)\n",
    "\n",
    "\n",
    "test_model()"
   ]
  },
  {
   "cell_type": "markdown",
   "metadata": {
    "deletable": true,
    "editable": true
   },
   "source": [
    "## Why 50-70% Accuracy?\n",
    "You might be wondering why you can't get an accuracy any higher. First things first, 50% isn't bad for a simple CNN.  Pure guessing would get you 10% accuracy. However, you might notice people are getting scores [well above 70%](http://rodrigob.github.io/are_we_there_yet/build/classification_datasets_results.html#43494641522d3130).  That's because we haven't taught you all there is to know about neural networks. We still need to cover a few more techniques.\n",
    "## Submitting This Project\n",
    "When submitting this project, make sure to run all the cells before saving the notebook.  Save the notebook file as \"dlnd_image_classification.ipynb\" and save it as a HTML file under \"File\" -> \"Download as\".  Include the \"helper.py\" and \"problem_unittests.py\" files in your submission."
   ]
  }
 ],
 "metadata": {
  "kernelspec": {
   "display_name": "Python 3",
   "language": "python",
   "name": "python3"
  },
  "language_info": {
   "codemirror_mode": {
    "name": "ipython",
    "version": 3
   },
   "file_extension": ".py",
   "mimetype": "text/x-python",
   "name": "python",
   "nbconvert_exporter": "python",
   "pygments_lexer": "ipython3",
   "version": "3.5.2"
  },
  "widgets": {
   "state": {},
   "version": "1.1.2"
  }
 },
 "nbformat": 4,
 "nbformat_minor": 0
}
